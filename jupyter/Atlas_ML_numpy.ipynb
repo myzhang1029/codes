{
 "cells": [
  {
   "cell_type": "markdown",
   "id": "2ae309fe-c8ed-462a-8abb-9159dd3971c8",
   "metadata": {},
   "source": [
    "# Machine Learning\n",
    "\n",
    "Written at Atlas Fellowship Summer Program, 15 August 2022.\n",
    "\n",
    "Building a neural network with NumPy."
   ]
  },
  {
   "cell_type": "code",
   "execution_count": 1,
   "id": "4b366fca-798d-4c30-bb30-889f1fc5621b",
   "metadata": {},
   "outputs": [],
   "source": [
    "import numpy as np\n",
    "from matplotlib import pyplot as plt"
   ]
  },
  {
   "cell_type": "markdown",
   "id": "619e54bf-6828-4b69-9e6d-f4c023683947",
   "metadata": {},
   "source": [
    "## Shape"
   ]
  },
  {
   "cell_type": "markdown",
   "id": "d431bd85-2656-4509-8104-b5c759a00a7b",
   "metadata": {},
   "source": [
    "The shape is a `List` of the `len`s: outermost to innermost:\n",
    "e.g.\n",
    "```py\n",
    ">>> np.shape([[[1, 2, 3], [4, 5, 6]]]) == (1, 2, 3)\n",
    "True\n",
    "```"
   ]
  },
  {
   "cell_type": "code",
   "execution_count": 2,
   "id": "ccb3eccf-115d-4a84-9c1f-ecfffeb8297c",
   "metadata": {},
   "outputs": [
    {
     "data": {
      "text/plain": [
       "array([[0, 0],\n",
       "       [0, 0],\n",
       "       [0, 1],\n",
       "       ...,\n",
       "       [0, 0],\n",
       "       [1, 1],\n",
       "       [1, 1]])"
      ]
     },
     "execution_count": 2,
     "metadata": {},
     "output_type": "execute_result"
    }
   ],
   "source": [
    "train_x = np.random.randint(low=0, high=2, size=(1000, 2))\n",
    "train_x"
   ]
  },
  {
   "cell_type": "markdown",
   "id": "5d0c66b1-10a4-4337-98ac-15aef4fdc0b4",
   "metadata": {},
   "source": [
    "## The Slicing Notation"
   ]
  },
  {
   "cell_type": "code",
   "execution_count": 3,
   "id": "ca6d1593-786f-4d5e-be83-114d38d1f128",
   "metadata": {},
   "outputs": [
    {
     "data": {
      "text/plain": [
       "array([0, 0, 0, 1, 1])"
      ]
     },
     "execution_count": 3,
     "metadata": {},
     "output_type": "execute_result"
    }
   ],
   "source": [
    "train_x[:5, 0]"
   ]
  },
  {
   "cell_type": "code",
   "execution_count": 4,
   "id": "040b966b-9863-41a8-9a46-304b45b15e5c",
   "metadata": {},
   "outputs": [],
   "source": [
    "train_y = np.expand_dims(train_x[:, 0] & train_x[:, 1], 1)"
   ]
  },
  {
   "cell_type": "markdown",
   "id": "5b973439-8611-4d30-860d-a067b044c343",
   "metadata": {},
   "source": [
    "## Activation Function"
   ]
  },
  {
   "cell_type": "markdown",
   "id": "4dfc00b3-232e-47b6-a9b1-24f7952b0e74",
   "metadata": {},
   "source": [
    "Neural networks: we want to approximate any function... but neurons are linear.\n",
    "\n",
    "Activation functions: introduce non-linearity."
   ]
  },
  {
   "cell_type": "markdown",
   "id": "a18010e3-7f01-45b8-9e58-4e16c29b0896",
   "metadata": {},
   "source": [
    "### ReLU"
   ]
  },
  {
   "cell_type": "code",
   "execution_count": 5,
   "id": "bec8669b-5826-4bb1-bc33-0b96b5bc9a0d",
   "metadata": {},
   "outputs": [],
   "source": [
    "def relu(x):\n",
    "    return np.maximum(0, x)"
   ]
  },
  {
   "cell_type": "code",
   "execution_count": 6,
   "id": "4b580941-7383-4bd1-a69c-8868bec81ebc",
   "metadata": {},
   "outputs": [
    {
     "data": {
      "text/plain": [
       "array([[0. , 0. ],\n",
       "       [0. , 0. ],\n",
       "       [0. , 0.5],\n",
       "       ...,\n",
       "       [0. , 0. ],\n",
       "       [0.5, 0.5],\n",
       "       [0.5, 0.5]])"
      ]
     },
     "execution_count": 6,
     "metadata": {},
     "output_type": "execute_result"
    }
   ],
   "source": [
    "relu(train_x - 0.5)"
   ]
  },
  {
   "cell_type": "markdown",
   "id": "8ea9f8a5-73f5-4e00-8037-1e0b4bc6ee51",
   "metadata": {},
   "source": [
    "Nice. This implementation works and works with an array."
   ]
  },
  {
   "cell_type": "markdown",
   "id": "4768e6be-0556-43ce-a82a-77f01f987222",
   "metadata": {},
   "source": [
    "### Sigmoid"
   ]
  },
  {
   "cell_type": "markdown",
   "id": "8e4ed6de-1880-40b6-9178-dec161ceee63",
   "metadata": {},
   "source": [
    "$$\n",
    "\\mathrm{sigmoid}(x) := \\frac{1}{1 + \\exp(-x)}\n",
    "$$\n",
    "\n",
    "Unlike `relu`, `sigmoid` makes the layer's output \"the larger, the better\" if the goal is to converge to a single target."
   ]
  },
  {
   "cell_type": "code",
   "execution_count": 7,
   "id": "31a7663b-e221-43dd-9bce-abdcfec14db5",
   "metadata": {},
   "outputs": [],
   "source": [
    "def sigmoid(x):\n",
    "    return 1. / (1. + np.exp(-x))"
   ]
  },
  {
   "cell_type": "code",
   "execution_count": 8,
   "id": "84e79292-3b70-49f1-84e8-a2bc3fe28d59",
   "metadata": {},
   "outputs": [
    {
     "data": {
      "text/plain": [
       "array([[0.5       , 0.5       ],\n",
       "       [0.5       , 0.5       ],\n",
       "       [0.5       , 0.73105858],\n",
       "       ...,\n",
       "       [0.5       , 0.5       ],\n",
       "       [0.73105858, 0.73105858],\n",
       "       [0.73105858, 0.73105858]])"
      ]
     },
     "execution_count": 8,
     "metadata": {},
     "output_type": "execute_result"
    }
   ],
   "source": [
    "sigmoid(train_x)"
   ]
  },
  {
   "cell_type": "code",
   "execution_count": 9,
   "id": "52ba28e7-a742-449e-b028-d44aeaa5785a",
   "metadata": {},
   "outputs": [],
   "source": [
    "class SimpleNN:\n",
    "    \"\"\"Simple neural network:\n",
    "    x1\\\n",
    "        -> [10] -> [1]\n",
    "    x2/\n",
    "    \"\"\"\n",
    "    def __init__(self):\n",
    "        # (input, output) == (2, 10)\n",
    "        self.l1_weights = np.random.normal(size=(2, 10))\n",
    "        self.l1_bias = np.random.normal(size=(1, 10))\n",
    "        # (input, output) == (10, 1)\n",
    "        self.l2_weights = np.random.normal(size=(10, 1))\n",
    "        self.l2_bias = np.random.normal(size=(1, 1))\n",
    "        self.step = {}\n",
    "    \n",
    "    def forward(self, x):\n",
    "        self.step[\"l1_out\"] = (x @ self.l1_weights) + self.l1_bias\n",
    "        self.step[\"l1_actv\"] = relu(self.step[\"l1_out\"])\n",
    "\n",
    "        self.step[\"l2_out\"] = (self.step[\"l1_actv\"] @ self.l2_weights) + self.l2_bias\n",
    "        self.step[\"l2_actv\"] = sigmoid(self.step[\"l2_out\"])\n",
    "        \n",
    "        return self.step[\"l2_actv\"]"
   ]
  },
  {
   "cell_type": "markdown",
   "id": "97ec3f23-3a5d-4afc-a4e6-2d44fae577b8",
   "metadata": {},
   "source": [
    "`@` is a suger for matrix multiplication (it calls `object.__matmul__`):"
   ]
  },
  {
   "cell_type": "code",
   "execution_count": 10,
   "id": "0fdc1449-2b7a-49ff-9998-049db65de781",
   "metadata": {},
   "outputs": [
    {
     "data": {
      "text/plain": [
       "array([5])"
      ]
     },
     "execution_count": 10,
     "metadata": {},
     "output_type": "execute_result"
    }
   ],
   "source": [
    "np.array([1, 2]) @ np.array([[1], [2]])"
   ]
  },
  {
   "cell_type": "code",
   "execution_count": 11,
   "id": "98af7d03-ab26-48fe-af47-da4cd9dab5dd",
   "metadata": {},
   "outputs": [],
   "source": [
    "my_nn = SimpleNN()"
   ]
  },
  {
   "cell_type": "code",
   "execution_count": 12,
   "id": "08a5a813-2498-4d3a-bd26-774069d745e3",
   "metadata": {},
   "outputs": [
    {
     "data": {
      "text/plain": [
       "array([[0.94969103],\n",
       "       [0.94969103],\n",
       "       [0.81894128],\n",
       "       [0.94146972],\n",
       "       [0.94146972]])"
      ]
     },
     "execution_count": 12,
     "metadata": {},
     "output_type": "execute_result"
    }
   ],
   "source": [
    "pred_y_1 = my_nn.forward(train_x)\n",
    "pred_y_1[:5]"
   ]
  },
  {
   "cell_type": "code",
   "execution_count": 13,
   "id": "346adb66-cc6d-4811-8d98-3a3504c56713",
   "metadata": {},
   "outputs": [],
   "source": [
    "def rms_loss(pred_y, y):\n",
    "    return np.sqrt(np.mean((pred_y - y) ** 2))"
   ]
  },
  {
   "cell_type": "code",
   "execution_count": 14,
   "id": "a41f1652-a433-4e9d-ad8a-22971bcc0563",
   "metadata": {},
   "outputs": [
    {
     "data": {
      "text/plain": [
       "0.7914148259409336"
      ]
     },
     "execution_count": 14,
     "metadata": {},
     "output_type": "execute_result"
    }
   ],
   "source": [
    "rms_loss(pred_y_1, train_y)"
   ]
  },
  {
   "cell_type": "markdown",
   "id": "841f7309-a116-4904-9454-d9975979f58b",
   "metadata": {},
   "source": [
    "We don't need the units to be the same though, so we can omit `sqrt`"
   ]
  },
  {
   "cell_type": "code",
   "execution_count": 15,
   "id": "0a850000-ad84-4d98-a5fc-2bdfddcafa54",
   "metadata": {},
   "outputs": [],
   "source": [
    "def ms_loss(pred_y, y):\n",
    "    return np.mean((pred_y - y) ** 2)"
   ]
  },
  {
   "cell_type": "code",
   "execution_count": 16,
   "id": "6ca1e45c-a7d4-4f92-9f40-ed7937026f49",
   "metadata": {},
   "outputs": [
    {
     "data": {
      "text/plain": [
       "0.6263374267191182"
      ]
     },
     "execution_count": 16,
     "metadata": {},
     "output_type": "execute_result"
    }
   ],
   "source": [
    "ms_loss(pred_y_1, train_y)"
   ]
  },
  {
   "cell_type": "markdown",
   "id": "75bf93d9-667a-49b8-b76c-f6df721542bc",
   "metadata": {},
   "source": [
    "## Gradient Descent"
   ]
  },
  {
   "cell_type": "markdown",
   "id": "f616bebc-645e-4183-b805-d2b70496c89f",
   "metadata": {},
   "source": [
    "$$\n",
    "    \\Delta\\mathrm{param} = \\frac{\\partial \\mathrm{loss}}{\\partial \\mathrm{param}}\n",
    "$$"
   ]
  },
  {
   "cell_type": "code",
   "execution_count": 17,
   "id": "8fac9934-4058-41ab-a151-4b79f597c017",
   "metadata": {},
   "outputs": [],
   "source": [
    "def d_relu(x):\n",
    "    return (x > 0).astype(float)\n",
    "\n",
    "def d_sigmoid(x):\n",
    "    # Official form:\n",
    "    # return sigmoid(x) * (1 - sigmoid(x))\n",
    "    # I want to do it by hand:\n",
    "    # return -1 * (1. + np.exp(-x)) ** -2 * -1 * np.exp(-x)\n",
    "    # return (1. + np.exp(-x)) ** -2 * np.exp(-x)\n",
    "    # We can prove they are equal\n",
    "    return np.exp(x) / (1. + np.exp(x)) ** 2\n",
    "\n",
    "def d_ms_loss(pred_y, y):\n",
    "    return np.mean(2 * (pred_y - y))"
   ]
  },
  {
   "cell_type": "markdown",
   "id": "f2a68838-6ee9-46a1-9057-e6bb6a1e771a",
   "metadata": {},
   "source": [
    "Create a new NN:"
   ]
  },
  {
   "cell_type": "code",
   "execution_count": 18,
   "id": "6c078ffc-7eb8-4854-b157-921a49e481d1",
   "metadata": {},
   "outputs": [],
   "source": [
    "nn = SimpleNN()\n",
    "all_total_losses = []"
   ]
  },
  {
   "cell_type": "code",
   "execution_count": 19,
   "id": "b6367b95-1908-48cd-a93e-dd1b62414741",
   "metadata": {},
   "outputs": [],
   "source": [
    "learning_rate = 0.001\n",
    "max_epoch = 100\n",
    "\n",
    "for epoch in range(max_epoch):\n",
    "    total_loss = 0\n",
    "    for (x, y) in zip(train_x, train_y):\n",
    "        cur_pred_y = nn.forward(x)\n",
    "        cur_loss = ms_loss(cur_pred_y, y)\n",
    "        total_loss += cur_loss\n",
    "\n",
    "        # Loss := loss(L2actv - y)\n",
    "        par_loss_par_l2actv = d_ms_loss(nn.step[\"l2_actv\"], y)\n",
    "        # L2actv := L2actv(L2out)\n",
    "        par_l2actv_par_l2out = d_sigmoid(nn.step[\"l2_out\"])\n",
    "        # L2out := L1actv @ weights2 + bias2\n",
    "        par_l2out_par_bias2 = 1\n",
    "        par_l2out_par_weights2 = nn.step[\"l1_actv\"].T\n",
    "        par_l2out_par_l1actv = nn.l2_weights.T\n",
    "        # L1actv := L1actv(L1out)\n",
    "        par_l1actv_par_l1out = d_relu(nn.step[\"l1_out\"])\n",
    "        # L1out := x @ weights1 + bias1\n",
    "        par_l1out_par_bias1 = 1\n",
    "        par_l1out_par_weights1 = np.expand_dims(x, 1)\n",
    "        \n",
    "        # Now we use the chain rule\n",
    "        par_loss_par_bias2 = par_loss_par_l2actv * par_l2actv_par_l2out \\\n",
    "            * par_l2out_par_bias2\n",
    "        par_loss_par_weights2 = par_loss_par_l2actv * par_l2actv_par_l2out \\\n",
    "            * par_l2out_par_weights2\n",
    "        par_loss_par_bias1 = par_loss_par_l2actv * par_l2actv_par_l2out \\\n",
    "            * par_l2out_par_l1actv * par_l1actv_par_l1out * par_l1out_par_bias1\n",
    "        par_loss_par_weights1 = par_loss_par_l2actv * par_l2actv_par_l2out \\\n",
    "            * par_l2out_par_l1actv * par_l1actv_par_l1out * par_l1out_par_weights1\n",
    "\n",
    "        # Then, we update the weights and biases\n",
    "        nn.l2_bias -= learning_rate * par_loss_par_bias2\n",
    "        nn.l2_weights -= learning_rate * par_loss_par_weights2\n",
    "        nn.l1_bias -= learning_rate * par_loss_par_bias1\n",
    "        nn.l1_weights -= learning_rate * par_loss_par_weights1\n",
    "    all_total_losses.append(total_loss)"
   ]
  },
  {
   "cell_type": "markdown",
   "id": "c355c471",
   "metadata": {},
   "source": [
    "Let's hope that the loss decreses over time:"
   ]
  },
  {
   "cell_type": "code",
   "execution_count": 20,
   "id": "0cacc130",
   "metadata": {},
   "outputs": [
    {
     "data": {
      "text/plain": [
       "[<matplotlib.lines.Line2D at 0x15cf8f340>]"
      ]
     },
     "execution_count": 20,
     "metadata": {},
     "output_type": "execute_result"
    },
    {
     "data": {
      "image/png": "[encoded data removed]",
      "text/plain": [
       "<Figure size 432x288 with 1 Axes>"
      ]
     },
     "metadata": {
      "needs_background": "light"
     },
     "output_type": "display_data"
    }
   ],
   "source": [
    "plt.plot(all_total_losses)"
   ]
  },
  {
   "cell_type": "code",
   "execution_count": 21,
   "id": "7c3baa4d-a9f3-4ad7-a5e0-6016fa75bfcf",
   "metadata": {},
   "outputs": [
    {
     "data": {
      "text/plain": [
       "array([[0.],\n",
       "       [0.],\n",
       "       [0.],\n",
       "       [1.]])"
      ]
     },
     "execution_count": 21,
     "metadata": {},
     "output_type": "execute_result"
    }
   ],
   "source": [
    "np.round(nn.forward([[0, 0], [1, 0], [0, 1], [1, 1]]))"
   ]
  },
  {
   "cell_type": "markdown",
   "id": "ab97c188-8353-473e-89fc-d24176ea4270",
   "metadata": {},
   "source": [
    "## Convolutional Layer"
   ]
  },
  {
   "cell_type": "markdown",
   "id": "a9b5aa0e",
   "metadata": {},
   "source": [
    "A convolutional layer is a function (kernel function) that applies to some consecutive outputs of the previous layer (or the input). For example, if the previous layer outputs\n",
    "```py\n",
    "[1, 8, 9, -2, 3, 4, 8, 5]\n",
    "```\n",
    "and in the convolutional layer, we multiply each pair of inputs with `[1, -1]`, we get\n",
    "```py\n",
    "[1 - 8, 8 - 9, 9 + 2, -2 - 3, 3 - 4, 4 - 8, 8 - 5]\n",
    "```"
   ]
  }
 ],
 "metadata": {
  "kernelspec": {
   "display_name": "Python 3.9.12 ('ml')",
   "language": "python",
   "name": "python3"
  },
  "language_info": {
   "codemirror_mode": {
    "name": "ipython",
    "version": 3
   },
   "file_extension": ".py",
   "mimetype": "text/x-python",
   "name": "python",
   "nbconvert_exporter": "python",
   "pygments_lexer": "ipython3",
   "version": "3.9.12"
  },
  "vscode": {
   "interpreter": {
    "hash": "63c2a4662a769bf482a00610948abf480804b022afb88b874cc2b35069915039"
   }
  }
 },
 "nbformat": 4,
 "nbformat_minor": 5
}
